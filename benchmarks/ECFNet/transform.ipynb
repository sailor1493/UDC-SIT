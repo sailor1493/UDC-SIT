{
 "cells": [
  {
   "cell_type": "code",
   "execution_count": null,
   "metadata": {},
   "outputs": [],
   "source": [
    "import os\n",
    "from pathlib import Path\n",
    "import argparse\n",
    "import torch\n",
    "import torch.nn as nn\n",
    "import torch.nn.functional as F\n",
    "import torch.optim as optim\n",
    "import functools\n",
    "import torch.distributed as dist\n",
    "import torch.multiprocessing as mp\n",
    "\n",
    "from torch.utils.data import Subset\n",
    "from torch.utils.data.distributed import DistributedSampler\n",
    "from torch.distributed.fsdp import (\n",
    "    FullyShardedDataParallel as FSDP,\n",
    "    BackwardPrefetch,\n",
    "    MixedPrecision,\n",
    "    ShardingStrategy,\n",
    "    FullStateDictConfig,\n",
    "    StateDictType,\n",
    ")\n",
    "from torch.distributed.fsdp.wrap import (\n",
    "    size_based_auto_wrap_policy,\n",
    ")\n",
    "\n",
    "from torch.distributed.algorithms._checkpoint.checkpoint_wrapper import (\n",
    "    apply_activation_checkpointing,\n",
    ")\n",
    "\n",
    "\n",
    "from torch.utils.data import DataLoader\n",
    "from pathlib import Path\n",
    "\n",
    "import tqdm\n",
    "\n",
    "from networks.ECFNet import *\n",
    "from datasets.dataset_pairs_npy import *\n",
    "from torchmetrics.functional import (\n",
    "    peak_signal_noise_ratio,\n",
    "    structural_similarity_index_measure,\n",
    ")\n",
    "import numpy as np\n",
    "from PIL import Image\n",
    "import wandb\n"
   ]
  },
  {
   "cell_type": "code",
   "execution_count": null,
   "metadata": {},
   "outputs": [],
   "source": []
  }
 ],
 "metadata": {
  "language_info": {
   "name": "python"
  }
 },
 "nbformat": 4,
 "nbformat_minor": 2
}
